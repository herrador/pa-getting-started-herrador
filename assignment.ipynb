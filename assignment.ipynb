{
 "cells": [
  {
   "cell_type": "code",
   "execution_count": null,
   "id": "composite-voluntary",
   "metadata": {},
   "outputs": [],
   "source": [
    "NAME = \"Andrew Herrador\"\n",
    "# University of Arizona email address\n",
    "EMAIL = \"herrador@email.arizona.edu\"\n",
    "# Names of any collaborators.  Write N/A if none.\n",
    "COLLABORATORS = \"N/A\"\n"
   ]
  },
  {
   "cell_type": "code",
   "execution_count": null,
   "id": "offensive-procedure",
   "metadata": {},
   "outputs": [],
   "source": [
    "Andrew Herrador"
   ]
  },
  {
   "cell_type": "code",
   "execution_count": 3,
   "id": "latter-recording",
   "metadata": {},
   "outputs": [],
   "source": [
    "def multiply(a: int, b: int) -> int:\n",
    "    \"\"\"\n",
    "    Takes two ints and returns their product\n",
    "    \"\"\"\n",
    "    # YOUR CODE HERE\n",
    "    return a*b\n"
   ]
  },
  {
   "cell_type": "code",
   "execution_count": 4,
   "id": "federal-tract",
   "metadata": {},
   "outputs": [],
   "source": [
    "assert multiply(2,2) == 4\n",
    "assert multiply(2,0) == 0"
   ]
  },
  {
   "cell_type": "code",
   "execution_count": 7,
   "id": "southeast-general",
   "metadata": {},
   "outputs": [],
   "source": [
    "def weird_request(seq):\n",
    "    \"\"\"\n",
    "    takes a list of strings, reverses them, drops the element at the front, and returns what remains.\n",
    "    \"\"\"\n",
    "    # YOUR CODE HERE\n",
    "    seq.reverse()\n",
    "    return seq[1:]"
   ]
  },
  {
   "cell_type": "code",
   "execution_count": 8,
   "id": "opposite-retention",
   "metadata": {},
   "outputs": [],
   "source": [
    "assert weird_request([1,2,3]) == [2,1]\n",
    "assert weird_request([1]) == []"
   ]
  },
  {
   "cell_type": "code",
   "execution_count": null,
   "id": "fifth-responsibility",
   "metadata": {},
   "outputs": [],
   "source": []
  }
 ],
 "metadata": {
  "kernelspec": {
   "display_name": "Python 3",
   "language": "python",
   "name": "python3"
  },
  "language_info": {
   "codemirror_mode": {
    "name": "ipython",
    "version": 3
   },
   "file_extension": ".py",
   "mimetype": "text/x-python",
   "name": "python",
   "nbconvert_exporter": "python",
   "pygments_lexer": "ipython3",
   "version": "3.8.8"
  }
 },
 "nbformat": 4,
 "nbformat_minor": 5
}
